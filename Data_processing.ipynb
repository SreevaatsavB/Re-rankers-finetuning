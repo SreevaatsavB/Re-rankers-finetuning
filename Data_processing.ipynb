{
 "cells": [
  {
   "cell_type": "code",
   "execution_count": 1,
   "id": "d06813af",
   "metadata": {},
   "outputs": [],
   "source": [
    "import json"
   ]
  },
  {
   "cell_type": "code",
   "execution_count": null,
   "id": "b9711044",
   "metadata": {},
   "outputs": [
    {
     "name": "stdout",
     "output_type": "stream",
     "text": [
      "Loaded 6300 examples from the training data\n"
     ]
    }
   ],
   "source": [
    "import json\n",
    "\n",
    "train_data = []\n",
    "with open(\"./data/training_data.jsonl\", \"r\") as file:\n",
    "    for line in file:\n",
    "        train_data.append(json.loads(line))\n",
    "\n",
    "print(f\"Loaded {len(train_data)} examples from the training data\")"
   ]
  },
  {
   "cell_type": "code",
   "execution_count": 17,
   "id": "400c5ce4",
   "metadata": {},
   "outputs": [
    {
     "data": {
      "text/plain": [
       "{'query': 'What was the percentage decrease in rental costs for the U.S. markets from 2022 to 2023?',\n",
       " 'pos': ['The rental costs for the U.S. markets decreased by 2.3% from 2022 to 2023, with values changing from $666.5 to $651.5.'],\n",
       " 'neg': ['The tax rate in 2023 was 20.5%.',\n",
       "  'Item 15(a)(1) of Part IV of the Annual Report on Form 10-K contains the consolidated financial statements and accompanying notes.',\n",
       "  'Operating income was $11,311 million in 2023, compared to $10,909 million in 2022, an increase of $402 million, or 4%.',\n",
       "  'As of the closing of the IPO, Johnson & Johnson owned approximately 89.6% of the total outstanding shares of Kenvue Common Stock.',\n",
       "  'CSC’s banking subsidiaries must each maintain positive tangible capital, as defined by the Federal Housing Finance Agency, in order to place new draws upon these credit facilities.',\n",
       "  'The total equity balance of Visa Inc. as of September 30, 2023 was $38,733 million.',\n",
       "  'Principal transactions revenue saw a 52% increase from 2022 to 2023.',\n",
       "  'Johnson & Johnson was incorporated in the State of New Jersey in 1887.',\n",
       "  'A hypothetical 50% decrease in short-term interest rates would decrease our annual pre-tax earnings by $15 million as of December 31, 2023, assuming no change in the amount or composition of our cash and cash equivalents and short-term and long-term restricted cash and cash equivalents.']}"
      ]
     },
     "execution_count": 17,
     "metadata": {},
     "output_type": "execute_result"
    }
   ],
   "source": [
    "train_data[0]"
   ]
  },
  {
   "cell_type": "code",
   "execution_count": 16,
   "id": "9fab90ac",
   "metadata": {},
   "outputs": [
    {
     "name": "stdout",
     "output_type": "stream",
     "text": [
      "Loaded 6300 examples from the training data\n",
      "Processed data saved to processed_training_data.jsonl\n"
     ]
    }
   ],
   "source": [
    "import json\n",
    "import random\n",
    "\n",
    "required_neg_count = 9  \n",
    "\n",
    "print(f\"Loaded {len(train_data)} examples from the training data\")\n",
    "\n",
    "all_negatives = []\n",
    "for sample in train_data:\n",
    "    all_negatives.extend(sample['neg'])\n",
    "for i, sample in enumerate(train_data):\n",
    "    current_neg_count = len(sample['neg'])\n",
    "    \n",
    "    if current_neg_count < required_neg_count:\n",
    "        needed = required_neg_count - current_neg_count\n",
    "        print(f\"Sample {i} has only {current_neg_count} negatives, needs {needed} more\")\n",
    "        \n",
    "        potential_negatives = [neg for neg in all_negatives if neg not in sample['neg']]\n",
    "        \n",
    "        # Randomly select needed negatives\n",
    "        if len(potential_negatives) >= needed:\n",
    "            additional_negatives = random.sample(potential_negatives, needed)\n",
    "            sample['neg'].extend(additional_negatives)\n",
    "            print(f\"  Added {needed} negatives to sample {i}\")\n",
    "        else:\n",
    "            sample['neg'].extend(potential_negatives)\n",
    "            print(f\"  Added only {len(potential_negatives)} negatives to sample {i}\")\n",
    "\n",
    "with open(\"./data/processed_training_data.jsonl\", \"w\") as file:\n",
    "    for sample in train_data:\n",
    "        file.write(json.dumps(sample) + \"\\n\")\n",
    "\n",
    "print(\"Processed data saved to processed_training_data.jsonl\")"
   ]
  },
  {
   "cell_type": "code",
   "execution_count": null,
   "id": "cef125da",
   "metadata": {},
   "outputs": [],
   "source": []
  }
 ],
 "metadata": {
  "kernelspec": {
   "display_name": "base",
   "language": "python",
   "name": "python3"
  },
  "language_info": {
   "codemirror_mode": {
    "name": "ipython",
    "version": 3
   },
   "file_extension": ".py",
   "mimetype": "text/x-python",
   "name": "python",
   "nbconvert_exporter": "python",
   "pygments_lexer": "ipython3",
   "version": "3.12.4"
  }
 },
 "nbformat": 4,
 "nbformat_minor": 5
}
